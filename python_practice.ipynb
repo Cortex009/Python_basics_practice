{
  "cells": [
    {
      "cell_type": "markdown",
      "metadata": {
        "id": "view-in-github",
        "colab_type": "text"
      },
      "source": [
        "<a href=\"https://colab.research.google.com/github/Cortex009/Python_basics_practice/blob/main/python_practice.ipynb\" target=\"_parent\"><img src=\"https://colab.research.google.com/assets/colab-badge.svg\" alt=\"Open In Colab\"/></a>"
      ]
    },
    {
      "cell_type": "markdown",
      "metadata": {
        "id": "KXEMEVLwVfNo"
      },
      "source": [
        "# Series"
      ]
    },
    {
      "cell_type": "code",
      "execution_count": null,
      "metadata": {
        "id": "QsYPxw7eVfNr"
      },
      "outputs": [],
      "source": [
        "s=['a','b','c','d']\n",
        "s"
      ]
    },
    {
      "cell_type": "code",
      "execution_count": null,
      "metadata": {
        "id": "Ki7i8JdKVfNt"
      },
      "outputs": [],
      "source": [
        "pd.Series(s)"
      ]
    },
    {
      "cell_type": "code",
      "execution_count": null,
      "metadata": {
        "id": "HgtjxeasVfNt"
      },
      "outputs": [],
      "source": [
        "snacks = ['pizza','burger','shawarma','franky','sandwitch']\n",
        "snacks"
      ]
    },
    {
      "cell_type": "code",
      "execution_count": null,
      "metadata": {
        "id": "sCBxWh-TVfNt"
      },
      "outputs": [],
      "source": [
        "pd.Series(snacks)"
      ]
    },
    {
      "cell_type": "code",
      "execution_count": null,
      "metadata": {
        "id": "eO7bxcTgVfNu"
      },
      "outputs": [],
      "source": [
        "days=['Monday','Tuesday','Wednesday','Thursday','Firday']\n",
        "days"
      ]
    },
    {
      "cell_type": "code",
      "execution_count": null,
      "metadata": {
        "id": "_JELxtG3VfNu"
      },
      "outputs": [],
      "source": [
        "pd.Series(data=snacks,index=days)"
      ]
    },
    {
      "cell_type": "code",
      "execution_count": null,
      "metadata": {
        "id": "L0vhWKpSVfNu"
      },
      "outputs": [],
      "source": [
        "a=np.array([10,20,30,40,50])\n",
        "a"
      ]
    },
    {
      "cell_type": "code",
      "execution_count": null,
      "metadata": {
        "id": "dFaVUApRVfNv"
      },
      "outputs": [],
      "source": [
        "print(a)"
      ]
    },
    {
      "cell_type": "code",
      "execution_count": null,
      "metadata": {
        "id": "KsqeDyVjVfNv"
      },
      "outputs": [],
      "source": [
        "pd.Series(a)"
      ]
    },
    {
      "cell_type": "code",
      "execution_count": null,
      "metadata": {
        "id": "ZEkW6i_LVfNv"
      },
      "outputs": [],
      "source": [
        "dict={'a':10,'b':20,'c':30,'d':40}\n",
        "dict"
      ]
    },
    {
      "cell_type": "code",
      "execution_count": null,
      "metadata": {
        "id": "js5zyNVMVfNw"
      },
      "outputs": [],
      "source": [
        "pd.Series(dict)"
      ]
    },
    {
      "cell_type": "markdown",
      "metadata": {
        "id": "iIS8bTssVfNw"
      },
      "source": [
        "# Numpy"
      ]
    },
    {
      "cell_type": "code",
      "execution_count": null,
      "metadata": {
        "id": "XtfugSMTVfNx"
      },
      "outputs": [],
      "source": [
        "a=np.array([(1,2,3,4),(4,5,6,7)])\n",
        "a"
      ]
    },
    {
      "cell_type": "code",
      "execution_count": null,
      "metadata": {
        "id": "F6Q77DcvVfNx"
      },
      "outputs": [],
      "source": [
        "print(a.size)"
      ]
    },
    {
      "cell_type": "code",
      "execution_count": null,
      "metadata": {
        "id": "67R4A_rNVfNx"
      },
      "outputs": [],
      "source": [
        "print(a.shape)"
      ]
    },
    {
      "cell_type": "code",
      "execution_count": null,
      "metadata": {
        "id": "Tww5SUXoVfNx"
      },
      "outputs": [],
      "source": [
        "a= a.reshape(4,2)"
      ]
    },
    {
      "cell_type": "code",
      "execution_count": null,
      "metadata": {
        "id": "hSmeDHxyVfNx"
      },
      "outputs": [],
      "source": [
        "print(a)"
      ]
    },
    {
      "cell_type": "code",
      "execution_count": null,
      "metadata": {
        "id": "2bU8L3yJVfNy"
      },
      "outputs": [],
      "source": [
        "a=np.array([(1,2,3,4),(4,5,6,7)])"
      ]
    },
    {
      "cell_type": "code",
      "execution_count": null,
      "metadata": {
        "id": "hIqkWGLnVfNy"
      },
      "outputs": [],
      "source": [
        "a[0,2] ## Accessing values"
      ]
    },
    {
      "cell_type": "code",
      "execution_count": null,
      "metadata": {
        "id": "BDrBRm3xVfNz"
      },
      "outputs": [],
      "source": [
        "a=np.array([1,2,3,4])\n",
        "print(a)"
      ]
    },
    {
      "cell_type": "code",
      "execution_count": null,
      "metadata": {
        "id": "QBZoprweVfNz"
      },
      "outputs": [],
      "source": [
        "a.min()"
      ]
    },
    {
      "cell_type": "code",
      "execution_count": null,
      "metadata": {
        "id": "ABUG3oTYVfNz"
      },
      "outputs": [],
      "source": [
        "a.max()"
      ]
    },
    {
      "cell_type": "code",
      "execution_count": null,
      "metadata": {
        "id": "WbYfd6Z8VfNz"
      },
      "outputs": [],
      "source": [
        "a.sum()"
      ]
    },
    {
      "cell_type": "code",
      "execution_count": null,
      "metadata": {
        "id": "6P-EGFR5VfN0"
      },
      "outputs": [],
      "source": [
        "a=np.array([(1,2,3,4),(4,5,6,7)])\n",
        "a"
      ]
    },
    {
      "cell_type": "code",
      "execution_count": null,
      "metadata": {
        "id": "KGhwAgUXVfN0"
      },
      "outputs": [],
      "source": [
        "a.sum(axis=0)"
      ]
    },
    {
      "cell_type": "code",
      "execution_count": null,
      "metadata": {
        "id": "mPZS0paMVfN0"
      },
      "outputs": [],
      "source": [
        "a.sum(axis=1)"
      ]
    },
    {
      "cell_type": "markdown",
      "metadata": {
        "id": "Mgy2a6G5VfN0"
      },
      "source": [
        "## Duplicates"
      ]
    },
    {
      "cell_type": "code",
      "execution_count": null,
      "metadata": {
        "id": "lGttQaLJVfN0"
      },
      "outputs": [],
      "source": [
        "dup=DataFrame({'col1':['A','A','B','B','B'],'col2':[2,2,2,3,3]})"
      ]
    },
    {
      "cell_type": "code",
      "execution_count": null,
      "metadata": {
        "id": "hGJ4iTypVfN1"
      },
      "outputs": [],
      "source": [
        "dup"
      ]
    },
    {
      "cell_type": "code",
      "execution_count": null,
      "metadata": {
        "id": "yzWJF1tnVfN1"
      },
      "outputs": [],
      "source": [
        "dup.duplicated()"
      ]
    },
    {
      "cell_type": "code",
      "execution_count": null,
      "metadata": {
        "id": "GTO_drHpVfN1"
      },
      "outputs": [],
      "source": [
        "dup.drop_duplicates()"
      ]
    },
    {
      "cell_type": "markdown",
      "metadata": {
        "id": "Wd6_cnUFVfN1"
      },
      "source": [
        "## Group By"
      ]
    },
    {
      "cell_type": "code",
      "execution_count": null,
      "metadata": {
        "id": "tmTvf8-kVfN2"
      },
      "outputs": [],
      "source": [
        "df = pd.read_csv('Salaries.csv')"
      ]
    },
    {
      "cell_type": "code",
      "execution_count": null,
      "metadata": {
        "id": "ibJ5wjyFVfN2"
      },
      "outputs": [],
      "source": [
        "df"
      ]
    },
    {
      "cell_type": "code",
      "execution_count": null,
      "metadata": {
        "id": "6AbTwteTVfN2"
      },
      "outputs": [],
      "source": [
        "df.columns"
      ]
    },
    {
      "cell_type": "code",
      "execution_count": null,
      "metadata": {
        "id": "XkiIPxYfVfN2"
      },
      "outputs": [],
      "source": [
        "df.head()"
      ]
    },
    {
      "cell_type": "code",
      "execution_count": null,
      "metadata": {
        "id": "gxtpmwBWVfN3"
      },
      "outputs": [],
      "source": [
        "df.dtypes"
      ]
    },
    {
      "cell_type": "code",
      "execution_count": null,
      "metadata": {
        "id": "X14kKptHVfN3"
      },
      "outputs": [],
      "source": [
        "df.tail()"
      ]
    },
    {
      "cell_type": "code",
      "execution_count": null,
      "metadata": {
        "id": "ieLnWqUnVfOR"
      },
      "outputs": [],
      "source": [
        "df.describe()"
      ]
    },
    {
      "cell_type": "code",
      "execution_count": null,
      "metadata": {
        "id": "6y3UboskVfOS"
      },
      "outputs": [],
      "source": [
        "df.max()"
      ]
    },
    {
      "cell_type": "code",
      "execution_count": null,
      "metadata": {
        "id": "-57dzwOPVfOS"
      },
      "outputs": [],
      "source": [
        "df.min()"
      ]
    },
    {
      "cell_type": "code",
      "execution_count": null,
      "metadata": {
        "id": "TB5X7OAfVfOS"
      },
      "outputs": [],
      "source": [
        "df.mean()"
      ]
    },
    {
      "cell_type": "code",
      "execution_count": null,
      "metadata": {
        "id": "qvBOJuC0VfOS"
      },
      "outputs": [],
      "source": [
        "df.discipline.value_counts()"
      ]
    },
    {
      "cell_type": "code",
      "execution_count": null,
      "metadata": {
        "id": "kRdNUu54VfOT"
      },
      "outputs": [],
      "source": [
        "df.salary"
      ]
    },
    {
      "cell_type": "code",
      "execution_count": null,
      "metadata": {
        "id": "6_EZ34laVfOT"
      },
      "outputs": [],
      "source": [
        "df.phd.describe()"
      ]
    },
    {
      "cell_type": "code",
      "execution_count": null,
      "metadata": {
        "id": "C4-6evzFVfOT"
      },
      "outputs": [],
      "source": [
        "df.phd.count()"
      ]
    },
    {
      "cell_type": "code",
      "execution_count": null,
      "metadata": {
        "id": "NNIuYv3cVfOU"
      },
      "outputs": [],
      "source": [
        "df.phd.mean()"
      ]
    },
    {
      "cell_type": "code",
      "execution_count": null,
      "metadata": {
        "id": "HkPsitUTVfOU"
      },
      "outputs": [],
      "source": [
        "df.groupby(['rank']).mean()"
      ]
    },
    {
      "cell_type": "code",
      "execution_count": null,
      "metadata": {
        "id": "ACBb_oBPVfOV"
      },
      "outputs": [],
      "source": [
        "df.groupby('rank')[['salary','phd']].mean()"
      ]
    },
    {
      "cell_type": "code",
      "execution_count": null,
      "metadata": {
        "id": "Ft72C2hcVfOV"
      },
      "outputs": [],
      "source": [
        "df[df.salary>120000]"
      ]
    },
    {
      "cell_type": "code",
      "execution_count": null,
      "metadata": {
        "id": "tspL3M6YVfOV"
      },
      "outputs": [],
      "source": [
        "df.iloc[1:4, 0:3]"
      ]
    },
    {
      "cell_type": "code",
      "execution_count": null,
      "metadata": {
        "id": "-REP9oVCVfOW"
      },
      "outputs": [],
      "source": [
        "df.iloc[0:10,0:3]"
      ]
    },
    {
      "cell_type": "code",
      "execution_count": null,
      "metadata": {
        "id": "aIj6huTcVfOW"
      },
      "outputs": [],
      "source": [
        "df.iloc[0:2,]"
      ]
    },
    {
      "cell_type": "code",
      "execution_count": null,
      "metadata": {
        "id": "VsPD4PP7VfOW"
      },
      "outputs": [],
      "source": [
        "df.iloc[:,4]"
      ]
    },
    {
      "cell_type": "markdown",
      "metadata": {
        "id": "G69w-hApVfOW"
      },
      "source": [
        "## Distribution plots"
      ]
    },
    {
      "cell_type": "code",
      "execution_count": null,
      "metadata": {
        "id": "A4AY3lI_VfOX"
      },
      "outputs": [],
      "source": [
        "import warnings\n",
        "warnings.filterwarnings('ignore')"
      ]
    },
    {
      "cell_type": "code",
      "execution_count": null,
      "metadata": {
        "id": "EOcXgs6nVfOX"
      },
      "outputs": [],
      "source": [
        "import pandas as pd\n",
        "import numpy as np\n",
        "import matplotlib.pyplot as plt\n",
        "import seaborn as sns"
      ]
    },
    {
      "cell_type": "code",
      "execution_count": null,
      "metadata": {
        "id": "0KgHLUbSVfOX"
      },
      "outputs": [],
      "source": [
        "df1 = pd.read_csv('Universities.csv')"
      ]
    },
    {
      "cell_type": "code",
      "execution_count": null,
      "metadata": {
        "id": "LwNXBY8MVfOY"
      },
      "outputs": [],
      "source": [
        "plt.hist(df1['Accept'])"
      ]
    },
    {
      "cell_type": "code",
      "execution_count": null,
      "metadata": {
        "id": "OwyiGT9HVfOY"
      },
      "outputs": [],
      "source": [
        "sns.distplot(df1['Top10'])"
      ]
    },
    {
      "cell_type": "code",
      "execution_count": null,
      "metadata": {
        "id": "4MctC-0pVfOY"
      },
      "outputs": [],
      "source": [
        "sns.scatterplot(x='SAT',y='Accept',data=df1)"
      ]
    },
    {
      "cell_type": "code",
      "execution_count": null,
      "metadata": {
        "id": "X2kwijZLVfOY"
      },
      "outputs": [],
      "source": [
        "sns.pairplot(df1)"
      ]
    },
    {
      "cell_type": "code",
      "execution_count": null,
      "metadata": {
        "id": "JP1skdfOVfOY"
      },
      "outputs": [],
      "source": [
        "df1.skew()"
      ]
    },
    {
      "cell_type": "code",
      "execution_count": null,
      "metadata": {
        "id": "wH4TK6_HVfOZ"
      },
      "outputs": [],
      "source": [
        "df1.kurt()"
      ]
    },
    {
      "cell_type": "code",
      "execution_count": null,
      "metadata": {
        "id": "8EXOKIcSVfOZ"
      },
      "outputs": [],
      "source": [
        "plt.boxplot(df1[\"SAT\"],vert = True)"
      ]
    },
    {
      "cell_type": "code",
      "execution_count": null,
      "metadata": {
        "id": "hR_7cOAHVfOZ"
      },
      "outputs": [],
      "source": []
    }
  ],
  "metadata": {
    "kernelspec": {
      "display_name": "Python 3",
      "language": "python",
      "name": "python3"
    },
    "language_info": {
      "codemirror_mode": {
        "name": "ipython",
        "version": 3
      },
      "file_extension": ".py",
      "mimetype": "text/x-python",
      "name": "python",
      "nbconvert_exporter": "python",
      "pygments_lexer": "ipython3",
      "version": "3.8.5"
    },
    "colab": {
      "provenance": [],
      "include_colab_link": true
    }
  },
  "nbformat": 4,
  "nbformat_minor": 0
}